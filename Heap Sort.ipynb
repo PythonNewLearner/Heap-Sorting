{
 "cells": [
  {
   "cell_type": "markdown",
   "metadata": {},
   "source": [
    "# Write a function to visualize a complete binary tree"
   ]
  },
  {
   "cell_type": "code",
   "execution_count": 54,
   "metadata": {},
   "outputs": [
    {
     "name": "stdout",
     "output_type": "stream",
     "text": [
      "                                                              30\n",
      "                              20                                                              80\n",
      "              40                              50                              10                              60\n",
      "      70              90              22              13              51              19              30              99\n",
      "  17      12\n",
      "\n"
     ]
    }
   ],
   "source": [
    "import math\n",
    "def print_tree(origin:list):\n",
    "    lines = math.ceil(math.log2(len(origin)))+1\n",
    "    n = len(origin)\n",
    "    start = 0\n",
    "    end = 1\n",
    "    for i in range(lines):\n",
    "        s = origin[start:end]    #[0,1],[1:3],[3,7],[7:]\n",
    "        start = start + 2**i\n",
    "        end = end + 2**(i +1)\n",
    "\n",
    "        pre = 2**(lines-i-1)-1\n",
    "        beg = '  '*pre\n",
    "        space = '  '*(2**(lines-i)-1)\n",
    "\n",
    "        print(beg,end='')\n",
    "        print(space.join(map(str,s)))\n",
    "        \n",
    "# visualize the list in form of binary tree\n",
    "origin =  [30,20,80,40,50,10,60,70,90,22,13,51,19,30,99,17,12]\n",
    "print_tree(origin)"
   ]
  },
  {
   "cell_type": "markdown",
   "metadata": {},
   "source": [
    "# Let's do the sorting"
   ]
  },
  {
   "cell_type": "markdown",
   "metadata": {},
   "source": [
    "# Step 1: Single Node adjustment"
   ]
  },
  {
   "cell_type": "code",
   "execution_count": 64,
   "metadata": {},
   "outputs": [],
   "source": [
    "origin = [0,30,20,80,40,50,10,60,70,90,22,13,51,19,30,99,17,12] #add a 0 in front for index covinience\n",
    "n = len(origin) - 1\n",
    "\n",
    "def heap_adjust(i,n,origin:list):\n",
    "    '''\n",
    "    i: given a node (node number)\n",
    "    n: length of the list origin,excluding the 0 in front\n",
    "    origin: \n",
    "    '''\n",
    "    while 2*i <= n :\n",
    "        lchild_index = 2*i\n",
    "        max_index = lchild_index\n",
    "        if lchild_index < n and origin[lchild_index] < origin[lchild_index+1]:\n",
    "            max_index = lchild_index + 1\n",
    "        if origin[i] < origin[max_index]:\n",
    "            origin[i],origin[max_index] = origin[max_index],origin[i]\n",
    "            i = max_index\n",
    "        else:\n",
    "            break"
   ]
  },
  {
   "cell_type": "code",
   "execution_count": 65,
   "metadata": {},
   "outputs": [
    {
     "name": "stdout",
     "output_type": "stream",
     "text": [
      "                                                              30\n",
      "                              20                                                              80\n",
      "              90                              50                              10                              60\n",
      "      70              40              22              13              51              19              30              99\n",
      "  17      12\n",
      "\n"
     ]
    }
   ],
   "source": [
    "heap_adjust(4,n,origin)\n",
    "print_tree(origin[1:])"
   ]
  },
  {
   "cell_type": "markdown",
   "metadata": {},
   "source": [
    "Observe that numbers swapped their positions at node 4:<br> Among parent and child nodes,largest number 90 swapped with 40 -->parent node is larger than the child nodes"
   ]
  },
  {
   "cell_type": "markdown",
   "metadata": {},
   "source": [
    "# Step 2 : Build a max heap"
   ]
  },
  {
   "cell_type": "code",
   "execution_count": 66,
   "metadata": {},
   "outputs": [],
   "source": [
    "#Heap_adjust for the nodes starting  with node n//2, until reach root node\n",
    "# Objective is to build a Max Heap tree\n",
    "def max_heap(origin:list,n):    \n",
    "    '''\n",
    "    origin:given list of numbers\n",
    "    n: length of list of numbers,excluding 0 in front\n",
    "    '''\n",
    "    for j in range(n//2,0,-1):\n",
    "        heap_adjust(j,n,origin)\n",
    "    return origin"
   ]
  },
  {
   "cell_type": "code",
   "execution_count": 67,
   "metadata": {},
   "outputs": [
    {
     "name": "stdout",
     "output_type": "stream",
     "text": [
      "                                                              99\n",
      "                              90                                                              80\n",
      "              70                              50                              51                              60\n",
      "      20              40              22              13              10              19              30              30\n",
      "  17      12\n",
      "\n"
     ]
    }
   ],
   "source": [
    "origin = [0,30,20,80,40,50,10,60,70,90,22,13,51,19,30,99,17,12]\n",
    "print_tree(max_heap(origin,n)[1:])"
   ]
  },
  {
   "cell_type": "markdown",
   "metadata": {},
   "source": [
    "accoding to the definition of max heap, parent node is larger than child nodes as seen above\n"
   ]
  },
  {
   "cell_type": "markdown",
   "metadata": {},
   "source": [
    "# Step 3: Sorting"
   ]
  },
  {
   "cell_type": "code",
   "execution_count": 71,
   "metadata": {},
   "outputs": [],
   "source": [
    "def heap_sort(origin:list,n):\n",
    "    origin = max_heap(origin,n)\n",
    "    while n > 1:\n",
    "        origin[1],origin[n] = origin[n],origin[1]\n",
    "        n -= 1\n",
    "        heap_adjust(1,n,origin)\n",
    "    return origin"
   ]
  },
  {
   "cell_type": "code",
   "execution_count": 72,
   "metadata": {},
   "outputs": [
    {
     "name": "stdout",
     "output_type": "stream",
     "text": [
      "                                                              10\n",
      "                              12                                                              13\n",
      "              17                              19                              20                              22\n",
      "      30              30              40              50              51              60              70              80\n",
      "  90      99\n",
      "\n"
     ]
    }
   ],
   "source": [
    "origin = [0,30,20,80,40,50,10,60,70,90,22,13,51,19,30,99,17,12]\n",
    "new_array = heap_sort(origin,n)\n",
    "print_tree(new_array[1:])"
   ]
  },
  {
   "cell_type": "markdown",
   "metadata": {},
   "source": [
    "Final sorted list"
   ]
  },
  {
   "cell_type": "code",
   "execution_count": 73,
   "metadata": {},
   "outputs": [
    {
     "name": "stdout",
     "output_type": "stream",
     "text": [
      "[10, 12, 13, 17, 19, 20, 22, 30, 30, 40, 50, 51, 60, 70, 80, 90, 99]\n"
     ]
    }
   ],
   "source": [
    "print(new_array[1:])"
   ]
  },
  {
   "cell_type": "code",
   "execution_count": null,
   "metadata": {},
   "outputs": [],
   "source": []
  }
 ],
 "metadata": {
  "kernelspec": {
   "display_name": "Python 3",
   "language": "python",
   "name": "python3"
  },
  "language_info": {
   "codemirror_mode": {
    "name": "ipython",
    "version": 3
   },
   "file_extension": ".py",
   "mimetype": "text/x-python",
   "name": "python",
   "nbconvert_exporter": "python",
   "pygments_lexer": "ipython3",
   "version": "3.6.8"
  }
 },
 "nbformat": 4,
 "nbformat_minor": 2
}
